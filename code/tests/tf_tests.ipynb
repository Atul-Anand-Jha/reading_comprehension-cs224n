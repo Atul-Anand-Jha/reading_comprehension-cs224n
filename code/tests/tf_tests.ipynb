{
 "cells": [
  {
   "cell_type": "code",
   "execution_count": 1,
   "metadata": {
    "collapsed": true
   },
   "outputs": [],
   "source": [
    "import tensorflow as tf"
   ]
  },
  {
   "cell_type": "code",
   "execution_count": 4,
   "metadata": {},
   "outputs": [
    {
     "name": "stdout",
     "output_type": "stream",
     "text": [
      "[[ 4.  8.]\n",
      " [ 4.  8.]]\n"
     ]
    }
   ],
   "source": [
    "def test01():\n",
    "    a = tf.placeholder(tf.float32, (2, 2))\n",
    "    # w = tf.Variable(tf.ones((2,2)))\n",
    "    w = tf.Variable([[1,2],[1,2]], dtype=tf.float32)\n",
    "    m = tf.matmul(a, w)\n",
    "    init = tf.global_variables_initializer()\n",
    "    sess = tf.Session()\n",
    "    sess.run(init)\n",
    "    print(sess.run(m, feed_dict={a:[[2,2],[2,2]]}))\n",
    "\n",
    "test01()"
   ]
  },
  {
   "cell_type": "code",
   "execution_count": 10,
   "metadata": {},
   "outputs": [
    {
     "name": "stdout",
     "output_type": "stream",
     "text": [
      "(2, 2)\n"
     ]
    }
   ],
   "source": [
    "def test02():\n",
    "    a = tf.ones((2,2))\n",
    "    sess = tf.Session()\n",
    "    out_a = sess.run(a)\n",
    "    print(out_a.shape)\n",
    "    assert (2,2) == out_a.shape, 'the shape should be equal.'\n",
    "    \n",
    "test02()"
   ]
  },
  {
   "cell_type": "code",
   "execution_count": 21,
   "metadata": {},
   "outputs": [
    {
     "name": "stdout",
     "output_type": "stream",
     "text": [
      "[[ 2.  2.  2.  2.  3.  3.  3.  3.  1.  1.  1.  1.]\n",
      " [ 2.  2.  2.  2.  3.  3.  3.  3.  1.  1.  1.  1.]\n",
      " [ 2.  2.  2.  2.  3.  3.  3.  3.  1.  1.  1.  1.]]\n"
     ]
    }
   ],
   "source": [
    "def test03():\n",
    "    a = tf.ones((3, 4), dtype=tf.float32)\n",
    "    c = tf.constant([[2,2,2,2],[3,3,3,3]], dtype=tf.float32)\n",
    "    d = tf.reshape(c, [-1])\n",
    "    batch_size = tf.cast(a.shape[0], tf.int32)\n",
    "    e = tf.tile(d, [batch_size])\n",
    "    h = tf.reshape(e, (batch_size, -1))\n",
    "    h1 = tf.concat([h, a], axis=1)\n",
    "    sess = tf.Session()\n",
    "    print(sess.run(h1))\n",
    "\n",
    "test03()\n",
    "    "
   ]
  },
  {
   "cell_type": "code",
   "execution_count": 26,
   "metadata": {},
   "outputs": [
    {
     "name": "stdout",
     "output_type": "stream",
     "text": [
      "2\n"
     ]
    }
   ],
   "source": [
    "def test04():\n",
    "    a = tf.placeholder(tf.int32, (None, 2))\n",
    "#     b = tf.cast(tf.shape(a)[0], tf.int32)\n",
    "    b = tf.shape(a)[0]\n",
    "    sess = tf.Session()\n",
    "    print(sess.run(b, feed_dict={a:[[1,1],[1,1]]}))\n",
    "    \n",
    "test04()"
   ]
  },
  {
   "cell_type": "code",
   "execution_count": 47,
   "metadata": {},
   "outputs": [
    {
     "name": "stdout",
     "output_type": "stream",
     "text": [
      "(1, 3, 4)\n",
      "(1, 3, 8)\n",
      "[[2 2 2 2 4 4 4 4 3 3 2 2 5 5 5 5 0 0 0 0 0 0 0 0]]\n",
      "[[2 2 2 2 4 4 4 4 3 3 2 2 5 5 5 5 0 0 0 0 0 0 0 0 2 2 2 2 4 4 4 4 3 3 2 2 5\n",
      "  5 5 5 0 0 0 0 0 0 0 0]]\n"
     ]
    }
   ],
   "source": [
    "def test05():\n",
    "    fw = tf.constant([[[2,2,2,2],[3,3,2,2], [0,0,0,0]]])\n",
    "    bw = tf.constant([[[4,4,4,4], [5,5,5,5], [0,0,0,0]]])\n",
    "    print(fw.shape)\n",
    "    b = tf.concat((fw,bw), axis=2)\n",
    "    print(b.shape)\n",
    "    size = tf.shape(b)[0]\n",
    "    c = tf.reshape(b, [size, -1])\n",
    "    d = tf.tile(c,[1,2])\n",
    "    with tf.Session() as sess:\n",
    "        print(sess.run(c))\n",
    "        print(sess.run(d))\n",
    "    \n",
    "test05()"
   ]
  },
  {
   "cell_type": "code",
   "execution_count": 56,
   "metadata": {},
   "outputs": [
    {
     "name": "stdout",
     "output_type": "stream",
     "text": [
      "[[2 2 2 2 2 2 2 2]\n",
      " [3 3 3 3 3 3 3 3]\n",
      " [4 4 4 4 4 4 4 4]]\n",
      "[[[2 2]\n",
      "  [2 2]\n",
      "  [2 2]\n",
      "  [2 2]]\n",
      "\n",
      " [[3 3]\n",
      "  [3 3]\n",
      "  [3 3]\n",
      "  [3 3]]\n",
      "\n",
      " [[4 4]\n",
      "  [4 4]\n",
      "  [4 4]\n",
      "  [4 4]]]\n"
     ]
    }
   ],
   "source": [
    "def test06():\n",
    "    a = tf.constant([[2,2],[3,3],[4,4]])\n",
    "    b = tf.tile(a,[1,4])\n",
    "    c = tf.reshape(b,[3,4,2])\n",
    "    with tf.Session() as sess:\n",
    "        print(sess.run(b))\n",
    "        print(sess.run(c))\n",
    "        \n",
    "    \n",
    "test06()"
   ]
  },
  {
   "cell_type": "code",
   "execution_count": 6,
   "metadata": {},
   "outputs": [
    {
     "name": "stdout",
     "output_type": "stream",
     "text": [
      "(3, 6)\n",
      "[[1 1 1 2 2 2]\n",
      " [3 3 3 4 4 4]]\n"
     ]
    }
   ],
   "source": [
    "def test07():\n",
    "    a = tf.constant([[1, 1, 1, 2, 2, 2],\n",
    "             [3, 3, 3, 4, 4, 4],\n",
    "             [5, 5, 5, 6, 6, 6]])\n",
    "    print(a.shape)\n",
    "    b = tf.slice(a, [0, 0], [2, 6])\n",
    "    with tf.Session() as sess:\n",
    "        print(sess.run(b))\n",
    "\n",
    "test07()"
   ]
  },
  {
   "cell_type": "code",
   "execution_count": 25,
   "metadata": {},
   "outputs": [
    {
     "name": "stdout",
     "output_type": "stream",
     "text": [
      "(2, 2)\n",
      "(2, 2, 1)\n",
      "(2, 2, 3)\n",
      "(2, 2, 3)\n",
      "[[[2 2 2]\n",
      "  [3 3 3]]\n",
      "\n",
      " [[4 4 4]\n",
      "  [5 5 5]]]\n",
      "(2, 2, 3)\n",
      "[[[ 2  2  2]\n",
      "  [ 6  6  6]]\n",
      "\n",
      " [[12 12 12]\n",
      "  [20 20 20]]]\n",
      "[[ 8  8  8]\n",
      " [32 32 32]]\n"
     ]
    }
   ],
   "source": [
    "def test08():\n",
    "    a = tf.constant([[2,3],[4,5]])\n",
    "    b = tf.constant([[[1,1,1],[2,2,2]],[[3,3,3],[4,4,4]]])\n",
    "    print(a.shape)\n",
    "    d = tf.expand_dims(a, 2)\n",
    "    print(d.shape)\n",
    "    e = tf.tile(d,[1,1,3])\n",
    "    print(e.shape)\n",
    "    print(b.shape)\n",
    "#     c = tf.multiply(b, e)\n",
    "    c = b*e\n",
    "    f = tf.reduce_sum(c, axis=1)\n",
    "    with tf.Session() as sess:\n",
    "        print(sess.run(e))\n",
    "        print(sess.run(c).shape)\n",
    "        print(sess.run(c))\n",
    "        print(sess.run(f))\n",
    "        \n",
    "test08()"
   ]
  },
  {
   "cell_type": "code",
   "execution_count": null,
   "metadata": {
    "collapsed": true
   },
   "outputs": [],
   "source": []
  }
 ],
 "metadata": {
  "kernelspec": {
   "display_name": "Python 2",
   "language": "python",
   "name": "python2"
  },
  "language_info": {
   "codemirror_mode": {
    "name": "ipython",
    "version": 2
   },
   "file_extension": ".py",
   "mimetype": "text/x-python",
   "name": "python",
   "nbconvert_exporter": "python",
   "pygments_lexer": "ipython2",
   "version": "2.7.13"
  }
 },
 "nbformat": 4,
 "nbformat_minor": 2
}
